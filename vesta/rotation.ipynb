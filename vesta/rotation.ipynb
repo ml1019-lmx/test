{
 "cells": [
  {
   "cell_type": "code",
   "execution_count": 64,
   "metadata": {},
   "outputs": [],
   "source": [
    "import numpy as np\n",
    "import math\n",
    "def get_rms(records):\n",
    "    \"\"\"\n",
    "    向量长度\n",
    "    \"\"\"\n",
    "    return math.sqrt(sum([x ** 2 for x in records]))\n",
    "\n"
   ]
  },
  {
   "cell_type": "code",
   "execution_count": 90,
   "metadata": {},
   "outputs": [
    {
     "name": "stdout",
     "output_type": "stream",
     "text": [
      "C:\\Users\\华为\\Desktop\\phd\\vesta\\S-ben-ch2-N-CH2^2-c60\n"
     ]
    }
   ],
   "source": [
    "import os  \n",
    "path1=os.path.abspath('.')\n",
    "path_file= path1+\"\\S-ben-ch2-N-CH2^2-c60\"\n",
    "# -*- coding:utf-8 -*-  \n",
    "print( path_file )"
   ]
  },
  {
   "cell_type": "code",
   "execution_count": 65,
   "metadata": {},
   "outputs": [],
   "source": [
    "#input 2 atoms coordinate\n",
    "A = np.array([-2.37125 ,-1.99855 ,1.08725])\n",
    "B = np.array([-1.30774,-1.21381 ,0.36564])"
   ]
  },
  {
   "cell_type": "code",
   "execution_count": 66,
   "metadata": {},
   "outputs": [
    {
     "data": {
      "text/plain": [
       "3.2862046843585384"
      ]
     },
     "execution_count": 66,
     "metadata": {},
     "output_type": "execute_result"
    }
   ],
   "source": [
    "get_rms(A)"
   ]
  },
  {
   "cell_type": "code",
   "execution_count": 67,
   "metadata": {},
   "outputs": [
    {
     "data": {
      "text/plain": [
       "array([-1.06351, -0.78474,  0.72161])"
      ]
     },
     "execution_count": 67,
     "metadata": {},
     "output_type": "execute_result"
    }
   ],
   "source": [
    "Zvector = A-B\n",
    "Zvector"
   ]
  },
  {
   "cell_type": "code",
   "execution_count": 68,
   "metadata": {},
   "outputs": [],
   "source": [
    "# rotation matrix\n",
    "Xvector = np.array([Zvector[0],Zvector[1],-(Zvector[0]**2+Zvector[1]**2)/Zvector[2]])\n",
    "Yvector = np.array([Zvector[1],-Zvector[0],0])\n",
    "P = np.array([Xvector/get_rms(Xvector),Yvector/get_rms(Yvector),Zvector/get_rms(Zvector)]).T"
   ]
  },
  {
   "cell_type": "code",
   "execution_count": 69,
   "metadata": {},
   "outputs": [
    {
     "data": {
      "text/plain": [
       "array([[-0.38559499, -0.59373883, -0.70625117],\n",
       "       [-0.28452183,  0.80465782, -0.52112678],\n",
       "       [-0.87770373,  0.        ,  0.47920368]])"
      ]
     },
     "execution_count": 69,
     "metadata": {},
     "output_type": "execute_result"
    }
   ],
   "source": [
    "P"
   ]
  },
  {
   "cell_type": "code",
   "execution_count": 70,
   "metadata": {},
   "outputs": [
    {
     "data": {
      "text/plain": [
       "array([[-3.85594988e-01, -2.84521830e-01, -8.77703728e-01],\n",
       "       [-5.93738825e-01,  8.04657820e-01, -7.63582376e-17],\n",
       "       [-7.06251168e-01, -5.21126780e-01,  4.79203680e-01]])"
      ]
     },
     "execution_count": 70,
     "metadata": {},
     "output_type": "execute_result"
    }
   ],
   "source": [
    "invP=np.linalg.inv(P)\n",
    "invP"
   ]
  },
  {
   "cell_type": "code",
   "execution_count": 72,
   "metadata": {},
   "outputs": [
    {
     "name": "stdout",
     "output_type": "stream",
     "text": [
      "[[ 0.20543]\n",
      " [-1.57082]\n",
      " [ 1.81219]]\n"
     ]
    },
    {
     "data": {
      "text/plain": [
       "array([[-1.22284612],\n",
       "       [-1.38594436],\n",
       "       [ 1.54191931]])"
      ]
     },
     "execution_count": 72,
     "metadata": {},
     "output_type": "execute_result"
    }
   ],
   "source": [
    "original = np.array([ 0.20543,-1.57082, 1.81219]).reshape(3,1)\n",
    "print(original)\n",
    "new=np.dot(invP,original)\n",
    "new"
   ]
  },
  {
   "cell_type": "code",
   "execution_count": 50,
   "metadata": {},
   "outputs": [
    {
     "data": {
      "text/plain": [
       "-0.7877772043399998"
      ]
     },
     "execution_count": 50,
     "metadata": {},
     "output_type": "execute_result"
    }
   ],
   "source": [
    "1.958286 *(-1.06351)  -1.385944* (-0.78474)+  (-0.194896)*(-1.06351)"
   ]
  },
  {
   "cell_type": "code",
   "execution_count": 92,
   "metadata": {},
   "outputs": [
    {
     "ename": "SyntaxError",
     "evalue": "invalid syntax (<ipython-input-92-06a95f66cc07>, line 1)",
     "output_type": "error",
     "traceback": [
      "\u001b[1;36m  File \u001b[1;32m\"<ipython-input-92-06a95f66cc07>\"\u001b[1;36m, line \u001b[1;32m1\u001b[0m\n\u001b[1;33m    with open(path_file+\"\\python_molecule_zdrection.xyz\",w+) as f1:\u001b[0m\n\u001b[1;37m                                                           ^\u001b[0m\n\u001b[1;31mSyntaxError\u001b[0m\u001b[1;31m:\u001b[0m invalid syntax\n"
     ]
    }
   ],
   "source": [
    "with open(\"\\python_molecule_zdrection.xyz\",w+) as f1:\n",
    "    with open(\"molecule.xyz\") as f:\n",
    "        for k,v in enumerate(f):\n",
    "            if k == 0 or k == 1:\n",
    "                line = v.strip()\n",
    "            else:\n",
    "                lst = v.strip().split()\n",
    "                original = np.array([float(lst[1]),float(lst[2]),float(lst[3]) ]).reshape(3,1)\n",
    "                new=np.dot(invP,original)\n",
    "                for i in range(1,4):\n",
    "                    lst[i] = new[i]\n",
    "                line = '   '.join(lst)\n",
    "                f1.writeline(line)\n",
    "        f.close()\n",
    "    f1.close()\n",
    "    \n",
    "with open(\"python_molecule_zdrection.xyz\") as f:\n",
    "    print(f.read())"
   ]
  },
  {
   "cell_type": "code",
   "execution_count": 5,
   "metadata": {},
   "outputs": [
    {
     "data": {
      "text/plain": [
       "[[0, 0, 0, 0, 0, 0, 0], [0, 0, 0, 0, 0, 0, 0], [0, 0, 0, 0, 0, 0, 0]]"
      ]
     },
     "execution_count": 5,
     "metadata": {},
     "output_type": "execute_result"
    }
   ],
   "source": [
    "dp=[[0]*7 for i in range(3)]\n",
    "dp"
   ]
  },
  {
   "cell_type": "code",
   "execution_count": 6,
   "metadata": {},
   "outputs": [
    {
     "data": {
      "text/plain": [
       "[[0, 1, 0, 0, 0, 0, 0], [0, 0, 0, 0, 0, 0, 0], [0, 0, 0, 0, 0, 0, 0]]"
      ]
     },
     "execution_count": 6,
     "metadata": {},
     "output_type": "execute_result"
    }
   ],
   "source": [
    "dp[0][1]=1\n",
    "dp"
   ]
  },
  {
   "cell_type": "code",
   "execution_count": null,
   "metadata": {},
   "outputs": [],
   "source": []
  }
 ],
 "metadata": {
  "kernelspec": {
   "display_name": "Python 3",
   "language": "python",
   "name": "python3"
  },
  "language_info": {
   "codemirror_mode": {
    "name": "ipython",
    "version": 3
   },
   "file_extension": ".py",
   "mimetype": "text/x-python",
   "name": "python",
   "nbconvert_exporter": "python",
   "pygments_lexer": "ipython3",
   "version": "3.7.4"
  }
 },
 "nbformat": 4,
 "nbformat_minor": 2
}
