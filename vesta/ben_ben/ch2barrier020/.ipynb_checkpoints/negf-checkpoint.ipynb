{
 "cells": [
  {
   "cell_type": "code",
   "execution_count": 1,
   "metadata": {},
   "outputs": [
    {
     "ename": "FileNotFoundError",
     "evalue": "[Errno 2] No such file or directory: 'ben_ben_negf.xyz'",
     "output_type": "error",
     "traceback": [
      "\u001b[1;31m---------------------------------------------------------------------------\u001b[0m",
      "\u001b[1;31mFileNotFoundError\u001b[0m                         Traceback (most recent call last)",
      "\u001b[1;32m<ipython-input-1-24f66946694b>\u001b[0m in \u001b[0;36m<module>\u001b[1;34m\u001b[0m\n\u001b[0;32m     41\u001b[0m     \u001b[0mf1\u001b[0m\u001b[1;33m.\u001b[0m\u001b[0mclose\u001b[0m\u001b[1;33m(\u001b[0m\u001b[1;33m)\u001b[0m\u001b[1;33m\u001b[0m\u001b[1;33m\u001b[0m\u001b[0m\n\u001b[0;32m     42\u001b[0m \u001b[1;33m\u001b[0m\u001b[0m\n\u001b[1;32m---> 43\u001b[1;33m \u001b[1;32mwith\u001b[0m \u001b[0mopen\u001b[0m\u001b[1;33m(\u001b[0m\u001b[1;34m\"ben_ben_negf.xyz\"\u001b[0m\u001b[1;33m)\u001b[0m \u001b[1;32mas\u001b[0m \u001b[0mf\u001b[0m\u001b[1;33m:\u001b[0m\u001b[1;33m\u001b[0m\u001b[1;33m\u001b[0m\u001b[0m\n\u001b[0m\u001b[0;32m     44\u001b[0m     \u001b[0mprint\u001b[0m\u001b[1;33m(\u001b[0m\u001b[0mf\u001b[0m\u001b[1;33m.\u001b[0m\u001b[0mread\u001b[0m\u001b[1;33m(\u001b[0m\u001b[1;33m)\u001b[0m\u001b[1;33m)\u001b[0m\u001b[1;33m\u001b[0m\u001b[1;33m\u001b[0m\u001b[0m\n",
      "\u001b[1;31mFileNotFoundError\u001b[0m: [Errno 2] No such file or directory: 'ben_ben_negf.xyz'"
     ]
    }
   ],
   "source": [
    "def str_float_z(num,height):\n",
    "    return str(float(num)+height)\n",
    "def str_float_x(num):\n",
    "    return str(float(num)+1*9.9896000000/2-4.9948000000/2)\n",
    "def str_float_y(num):\n",
    "    return str(float(num)+0.4*8.6512000000/2)\n",
    "\n",
    "with open(\"ch2barrier020_negf.xyz\",'w') as f1:\n",
    "    with open(\"ch2barrier020(optimized).xyz\") as f:\n",
    "        for k,v in enumerate(f):\n",
    "            lst = v.strip().split()\n",
    "            if k == 0 or k == 1:\n",
    "                f1.writelines(v)\n",
    "                continue\n",
    "            elif k<=28:\n",
    "                lst[3]=str_float_z(lst[3],19.0733599920+ 2.3841700720)\n",
    "#                 lst[2]=str_float_y(lst[2])\n",
    "#                 lst[1]=str_float_x(lst[1])\n",
    "                lst.append('L0')\n",
    "            elif k<=55:\n",
    "                lst[3]=str_float_z(lst[3],19.0733599920+ 2.3841700720)\n",
    "                lst.append('S')\n",
    "#                 lst[2]=str_float_y(lst[2])\n",
    "#                 lst[1]=str_float_x(lst[1])\n",
    "            elif k<=82:\n",
    "                lst[3]=str_float_z(lst[3],19.0733599920+ 2.3841700720)\n",
    "                lst.append('R0')\n",
    "            else:\n",
    "                lst[3]=str_float_z(lst[3], 24.4723201440+2.3841700720*2+19.0733599920-48.496850280000004)\n",
    "#                 lst[2]=str_float_y(lst[2])\n",
    "#                 lst[1]=str_float_x(lst[1])\n",
    "            line = '    '.join(lst) +'\\n'\n",
    "            f1.writelines(line)\n",
    "#         for k,v in enumerate(right_lead):\n",
    "#             print()\n",
    "#             lst = v.strip().split()\n",
    "#             lst[3]=str_float_z(lst[3],-22.872278212799998)\n",
    "#             line = '    '.join(lst) +'\\n'\n",
    "#             f1.writelines(line)\n",
    "        f.close()\n",
    "    f1.close()\n",
    "    \n",
    "with open(\"ben_ben_negf.xyz\") as f:\n",
    "    print(f.read())"
   ]
  },
  {
   "cell_type": "code",
   "execution_count": 2,
   "metadata": {},
   "outputs": [
    {
     "data": {
      "text/plain": [
       "69.771550344"
      ]
     },
     "execution_count": 2,
     "metadata": {},
     "output_type": "execute_result"
    }
   ],
   "source": [
    "67.387380272+2.3841700720"
   ]
  },
  {
   "cell_type": "code",
   "execution_count": null,
   "metadata": {},
   "outputs": [],
   "source": [
    "8.32470   2.88380"
   ]
  }
 ],
 "metadata": {
  "kernelspec": {
   "display_name": "Python 3",
   "language": "python",
   "name": "python3"
  },
  "language_info": {
   "codemirror_mode": {
    "name": "ipython",
    "version": 3
   },
   "file_extension": ".py",
   "mimetype": "text/x-python",
   "name": "python",
   "nbconvert_exporter": "python",
   "pygments_lexer": "ipython3",
   "version": "3.7.4"
  }
 },
 "nbformat": 4,
 "nbformat_minor": 2
}
