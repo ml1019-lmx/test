{
 "cells": [
  {
   "cell_type": "code",
   "execution_count": 1,
   "metadata": {},
   "outputs": [
    {
     "ename": "IndexError",
     "evalue": "list index out of range",
     "output_type": "error",
     "traceback": [
      "\u001b[1;31m---------------------------------------------------------------------------\u001b[0m",
      "\u001b[1;31mIndexError\u001b[0m                                Traceback (most recent call last)",
      "\u001b[1;32m<ipython-input-1-ea8e7ad7490a>\u001b[0m in \u001b[0;36m<module>\u001b[1;34m\u001b[0m\n\u001b[0;32m     27\u001b[0m \u001b[1;31m#                 lst.append('R0')\u001b[0m\u001b[1;33m\u001b[0m\u001b[1;33m\u001b[0m\u001b[1;33m\u001b[0m\u001b[0m\n\u001b[0;32m     28\u001b[0m             \u001b[1;32melse\u001b[0m\u001b[1;33m:\u001b[0m\u001b[1;33m\u001b[0m\u001b[1;33m\u001b[0m\u001b[0m\n\u001b[1;32m---> 29\u001b[1;33m                 \u001b[0mlst\u001b[0m\u001b[1;33m[\u001b[0m\u001b[1;36m3\u001b[0m\u001b[1;33m]\u001b[0m\u001b[1;33m=\u001b[0m\u001b[0mstr_float_z\u001b[0m\u001b[1;33m(\u001b[0m\u001b[0mlst\u001b[0m\u001b[1;33m[\u001b[0m\u001b[1;36m3\u001b[0m\u001b[1;33m]\u001b[0m\u001b[1;33m,\u001b[0m \u001b[1;36m22.7255500000\u001b[0m\u001b[1;33m+\u001b[0m\u001b[1;36m2.3841700720\u001b[0m\u001b[1;33m+\u001b[0m\u001b[1;36m19.0733599920\u001b[0m\u001b[1;33m-\u001b[0m\u001b[1;36m44.183080063999995\u001b[0m\u001b[1;33m)\u001b[0m\u001b[1;33m\u001b[0m\u001b[1;33m\u001b[0m\u001b[0m\n\u001b[0m\u001b[0;32m     30\u001b[0m \u001b[1;31m#                 lst[2]=str_float_y(lst[2])\u001b[0m\u001b[1;33m\u001b[0m\u001b[1;33m\u001b[0m\u001b[1;33m\u001b[0m\u001b[0m\n\u001b[0;32m     31\u001b[0m \u001b[1;31m#                 lst[1]=str_float_x(lst[1])\u001b[0m\u001b[1;33m\u001b[0m\u001b[1;33m\u001b[0m\u001b[1;33m\u001b[0m\u001b[0m\n",
      "\u001b[1;31mIndexError\u001b[0m: list index out of range"
     ]
    }
   ],
   "source": [
    "def str_float_z(num,height):\n",
    "    return str(float(num)+height)\n",
    "def str_float_x(num):\n",
    "    return str(float(num)+1*9.9896000000/2-4.9948000000/2)\n",
    "def str_float_y(num):\n",
    "    return str(float(num)+0.4*8.6512000000/2)\n",
    "\n",
    "with open(\"benzene_CH2_2F_right_negf.xyz\",'w') as f1:\n",
    "    with open(\"benzene_c20(optimized).xyz\") as f:\n",
    "        for k,v in enumerate(f):\n",
    "            lst = v.strip().split()\n",
    "            if k == 0 or k == 1:\n",
    "                f1.writelines(v)\n",
    "                continue\n",
    "            elif k<=28:\n",
    "                lst[3]=str_float_z(lst[3],19.0733599920+ 2.3841700720)\n",
    "#                 lst[2]=str_float_y(lst[2])\n",
    "#                 lst[1]=str_float_x(lst[1])\n",
    "                lst.append('L0')\n",
    "            elif k<=69:\n",
    "                lst[3]=str_float_z(lst[3],19.0733599920+ 2.3841700720)\n",
    "                lst.append('S')\n",
    "#                 lst[2]=str_float_y(lst[2])\n",
    "#                 lst[1]=str_float_x(lst[1])\n",
    "#             elif k<=87:\n",
    "#                 lst[3]=str_float_z(lst[3],19.0733599920+ 2.3841700720)\n",
    "#                 lst.append('R0')\n",
    "            else:\n",
    "                lst[3]=str_float_z(lst[3], 22.7255500000+2.3841700720+19.0733599920-44.183080063999995)\n",
    "#                 lst[2]=str_float_y(lst[2])\n",
    "#                 lst[1]=str_float_x(lst[1])\n",
    "            line = '    '.join(lst) +'\\n'\n",
    "            f1.writelines(line)\n",
    "#         for k,v in enumerate(right_lead):\n",
    "#             print()\n",
    "#             lst = v.strip().split()\n",
    "#             lst[3]=str_float_z(lst[3],-22.872278212799998)\n",
    "#             line = '    '.join(lst) +'\\n'\n",
    "#             f1.writelines(line)\n",
    "        f.close()\n",
    "    f1.close()\n",
    "    \n",
    "with open(\"benzene_CH2_2F_right_negf.xyz\") as f:\n",
    "    print(f.read())"
   ]
  },
  {
   "cell_type": "code",
   "execution_count": 4,
   "metadata": {},
   "outputs": [
    {
     "data": {
      "text/plain": [
       "72.793120344"
      ]
     },
     "execution_count": 4,
     "metadata": {},
     "output_type": "execute_result"
    }
   ],
   "source": [
    "70.408950272 +2.3841700720"
   ]
  },
  {
   "cell_type": "code",
   "execution_count": null,
   "metadata": {},
   "outputs": [],
   "source": [
    "8.32470   2.88380"
   ]
  }
 ],
 "metadata": {
  "kernelspec": {
   "display_name": "Python 3",
   "language": "python",
   "name": "python3"
  },
  "language_info": {
   "codemirror_mode": {
    "name": "ipython",
    "version": 3
   },
   "file_extension": ".py",
   "mimetype": "text/x-python",
   "name": "python",
   "nbconvert_exporter": "python",
   "pygments_lexer": "ipython3",
   "version": "3.7.4"
  }
 },
 "nbformat": 4,
 "nbformat_minor": 2
}
