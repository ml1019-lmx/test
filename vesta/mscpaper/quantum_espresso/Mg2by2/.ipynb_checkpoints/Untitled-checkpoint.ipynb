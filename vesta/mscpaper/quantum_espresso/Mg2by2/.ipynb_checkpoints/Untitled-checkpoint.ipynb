{
 "cells": [
  {
   "cell_type": "code",
   "execution_count": 2,
   "metadata": {},
   "outputs": [
    {
     "name": "stdout",
     "output_type": "stream",
     "text": [
      "14\n",
      "Mg2\n",
      "Fe1 0.000002000 1.842495000 10.0 \n",
      "Mg 0.000002000 1.842495000 13.604186099 \n",
      "Mg 0.000002000 1.842495000 18.812172222 \n",
      "Mg 0.000002000 1.842495000 23.994994131000002 \n",
      "Mg 0.000002000 1.842495000 29.182078656 \n",
      "Fe2 0.000002000 1.842495000 33.873855060000004 \n",
      "H 0.000002000 1.842495000 8.440255929 \n",
      "H 1.595652000 0.921248000 36.959266647 \n",
      "Fe2 1.595652000 0.921248000 11.525942879 \n",
      "Mg 1.595652000 0.921248000 16.217813452 \n",
      "Mg 1.595652000 0.921248000 21.405067827 \n",
      "Mg 1.595652000 0.921248000 26.588273352 \n",
      "Mg 1.595652000 0.921248000 31.796223993 \n",
      "Fe1 1.595652000 0.921248000 35.399568452000004 \n",
      "\n"
     ]
    }
   ],
   "source": [
    "def str_float(num):\n",
    "    return str(float(num)-8.208634982+10)\n",
    "\n",
    "with open('Mg_Fe_H2layer(scf).xyz','w') as f1:\n",
    "    with open('Mg_Fe2layer(WF).xyz') as f:\n",
    "        for k,v in enumerate(f):\n",
    "            if k<2:\n",
    "                f1.write(v)\n",
    "                continue\n",
    "            for i in range(4):\n",
    "                \n",
    "                lst=v.strip().split()\n",
    "                lst[3]=str_float(lst[3])\n",
    "                lst.append('\\n')\n",
    "                f1.writelines(' '.join(lst))\n",
    "\n",
    "        f.close()\n",
    "    f1.close()\n",
    "    \n",
    "with open('Mg_Fe_H2layer(scf).xyz') as f:\n",
    "    print(f.read())\n",
    "                \n",
    "            "
   ]
  },
  {
   "cell_type": "code",
   "execution_count": null,
   "metadata": {},
   "outputs": [],
   "source": []
  }
 ],
 "metadata": {
  "kernelspec": {
   "display_name": "Python 3",
   "language": "python",
   "name": "python3"
  },
  "language_info": {
   "codemirror_mode": {
    "name": "ipython",
    "version": 3
   },
   "file_extension": ".py",
   "mimetype": "text/x-python",
   "name": "python",
   "nbconvert_exporter": "python",
   "pygments_lexer": "ipython3",
   "version": "3.7.4"
  }
 },
 "nbformat": 4,
 "nbformat_minor": 2
}
