{
 "cells": [
  {
   "cell_type": "code",
   "execution_count": 14,
   "metadata": {},
   "outputs": [
    {
     "data": {
      "text/plain": [
       "[['H', '3.191302300', '0.000000000', '8.425924836'],\n",
       " ['Fe3', '3.191302300', '0.000000000', '10.0'],\n",
       " ['Fe1', '0.000002000', '1.842495000', '11.69024886'],\n",
       " ['Fe2', '1.595652000', '0.921248000', '13.303984149'],\n",
       " ['Mg', '0.000002000', '1.842495000', '15.415647158'],\n",
       " ['Mg', '1.595652000', '0.921248000', '18.026763538'],\n",
       " ['Mg', '0.000002000', '1.842495000', '20.618722402000003'],\n",
       " ['Mg', '1.595652000', '0.921248000', '23.206674299'],\n",
       " ['Mg', '0.000002000', '1.842495000', '25.792581089000002'],\n",
       " ['Mg', '1.595652000', '0.921248000', '28.382298829'],\n",
       " ['Mg', '0.000002000', '1.842495000', '30.976031747'],\n",
       " ['Mg', '1.595652000', '0.921248000', '33.588394358'],\n",
       " ['Fe2', '0.000002000', '1.842495000', '35.700715252'],\n",
       " ['Fe1', '1.595652000', '0.921248000', '37.31478978'],\n",
       " ['Fe3', '3.191302300', '0.000000000', '39.005203623999996'],\n",
       " ['H', '3.191302300', '0.000000000', '40.579322143']]"
      ]
     },
     "execution_count": 14,
     "metadata": {},
     "output_type": "execute_result"
    }
   ],
   "source": [
    "def takeFourth(elem):\n",
    "    return float(elem[3])\n",
    "\n",
    "Mg_template = []\n",
    "\n",
    "with open('../Mg_Fe_H3layerABC(scf).xyz') as f:\n",
    "    for k,v in enumerate(f):\n",
    "        if k == 0 or k== 1 :\n",
    "            continue\n",
    "        lst = v.strip().split()\n",
    "        Mg_template.append(lst)\n",
    "    f.close()\n",
    "\n",
    "Mg_template.sort(key = takeFourth)\n",
    "Mg_template"
   ]
  },
  {
   "cell_type": "code",
   "execution_count": 15,
   "metadata": {},
   "outputs": [],
   "source": [
    "num_H = 1\n",
    "num_Fe = 3\n",
    "Mg_start_position = Mg_template[num_Fe+num_H][3]\n",
    "difference_bottom = float(Mg_start_position) - 9.961205625"
   ]
  },
  {
   "cell_type": "code",
   "execution_count": 16,
   "metadata": {},
   "outputs": [],
   "source": [
    "Mg_5layer = [['Mg',   '0.000002000 ',  1.842495000 ,  9.961205625],\n",
    "['Mg',      '0.000002000 ' , 1.842495000 , 15.185520017],\n",
    "['Mg',    '0.000002000 ' , 1.842495000 , 20.367836980],\n",
    "['Mg',     '0.000002000 '  ,1.842495000 , 25.547831330],\n",
    "['Mg',    '0.000002000 '  ,1.842495000 , 30.736049983],\n",
    "['Mg',     ' 1.595652000  ' , 0.921248000  ,12.588004543],\n",
    "['Mg',     ' 1.595652000 ' , 0.921248000 , 17.780506640],\n",
    "['Mg',      ' 1.595652000 ' , 0.921248000 , 22.961106468],\n",
    "['Mg',      ' 1.595652000  ',  0.921248000 , 28.139969406],\n",
    "['Mg',      ' 1.595652000 ',   0.921248000 , 33.361992557],\n",
    "]"
   ]
  },
  {
   "cell_type": "code",
   "execution_count": 17,
   "metadata": {},
   "outputs": [
    {
     "name": "stdout",
     "output_type": "stream",
     "text": [
      "38.81643409\n"
     ]
    }
   ],
   "source": [
    "def float2str(mylist):\n",
    "    for i in range(1,len(mylist)):\n",
    "        mylist[i] = str(mylist[i])\n",
    "    return mylist\n",
    "\n",
    "with open('Mg_Fe_H3layerABC(scf).xyz', 'w') as f:\n",
    "    for i in range(num_Fe+num_H):\n",
    "        line = ' '.join(Mg_template[i])\n",
    "        f.write(line +'\\n')\n",
    "    for i in range(10):\n",
    "        Mg_5layer[i][3] = str(float(Mg_5layer[i][3]) +float(Mg_start_position) -  9.961205625)\n",
    "        Mg_5layer[i] = float2str(Mg_5layer[i])\n",
    "        line = ' '.join(Mg_5layer[i])\n",
    "        f.write(line+'\\n')\n",
    "    Mg_topopsition = float( Mg_5layer[9][3])\n",
    "    print(Mg_topopsition)\n",
    "    for i in range(num_Fe+num_H):\n",
    "        difference_top = float(Mg_template[num_Fe +num_H+ 8 +i][3]) -float( Mg_template[num_Fe+num_H + 7][3])\n",
    "        Mg_template[num_Fe+num_H+8+i][3] = str(Mg_topopsition + difference_top)\n",
    "        line = ' '.join(Mg_template[num_Fe+num_H+8+i])\n",
    "        f.write(line+'\\n')\n",
    "    f.close()\n",
    "    \n"
   ]
  },
  {
   "cell_type": "code",
   "execution_count": null,
   "metadata": {},
   "outputs": [],
   "source": []
  },
  {
   "cell_type": "code",
   "execution_count": null,
   "metadata": {},
   "outputs": [],
   "source": []
  },
  {
   "cell_type": "code",
   "execution_count": null,
   "metadata": {},
   "outputs": [],
   "source": []
  }
 ],
 "metadata": {
  "kernelspec": {
   "display_name": "Python 3",
   "language": "python",
   "name": "python3"
  },
  "language_info": {
   "codemirror_mode": {
    "name": "ipython",
    "version": 3
   },
   "file_extension": ".py",
   "mimetype": "text/x-python",
   "name": "python",
   "nbconvert_exporter": "python",
   "pygments_lexer": "ipython3",
   "version": "3.7.4"
  }
 },
 "nbformat": 4,
 "nbformat_minor": 2
}
