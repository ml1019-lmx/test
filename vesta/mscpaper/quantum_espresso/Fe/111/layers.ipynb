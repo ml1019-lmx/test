{
 "cells": [
  {
   "cell_type": "code",
   "execution_count": 21,
   "metadata": {},
   "outputs": [],
   "source": [
    "layer = 4\n",
    "position_base = ['Fe']+['0']*3\n",
    "position_center= ['Fe']+['1.421620']*3\n",
    "Fe    0.000000    2.319805    1.642502\n",
    "Fe    2.009010    1.159903    0.821250"
   ]
  },
  {
   "cell_type": "code",
   "execution_count": 4,
   "metadata": {},
   "outputs": [],
   "source": [
    "for layer in range(4,5):\n",
    "    with open('Fe_'+ str(layer) +'.xyz','w+') as f:\n",
    "        f.writelines(str(layer*3+1)+'\\n')\n",
    "        f.writelines('Fe2\\n')\n",
    "        for i in range(layer):\n",
    "            position_base = ['Fe']+['0']*3\n",
    "            position_333= ['Fe']+['0.000000'   , '2.319805' ,   '1.642502']\n",
    "            position_667=['Fe']+['2.009010',  ' 1.159903',    '0.821250']\n",
    "            position_base[3] = str(float(position_base[3])+7.5+i*2.463751818)\n",
    "            position_333[3] = str(float(position_333[3])+7.5+i*2.463751818)\n",
    "            position_667[3] = str(float(position_667[3])+7.5+i*2.463751818)\n",
    "            f.writelines('    '.join(position_base)+'\\n')\n",
    "            f.writelines('    '.join(position_333)+'\\n')\n",
    "            f.writelines('    '.join(position_667)+'\\n')\n",
    "        position_base[3] = str(float(position_base[3])+2.463751818)\n",
    "        f.writelines('    '.join(position_base)+'\\n')\n",
    "        f.close()"
   ]
  },
  {
   "cell_type": "code",
   "execution_count": null,
   "metadata": {},
   "outputs": [],
   "source": []
  }
 ],
 "metadata": {
  "kernelspec": {
   "display_name": "Python 3",
   "language": "python",
   "name": "python3"
  },
  "language_info": {
   "codemirror_mode": {
    "name": "ipython",
    "version": 3
   },
   "file_extension": ".py",
   "mimetype": "text/x-python",
   "name": "python",
   "nbconvert_exporter": "python",
   "pygments_lexer": "ipython3",
   "version": "3.7.4"
  }
 },
 "nbformat": 4,
 "nbformat_minor": 2
}
