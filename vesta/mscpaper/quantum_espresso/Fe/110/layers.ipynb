{
 "cells": [
  {
   "cell_type": "code",
   "execution_count": 21,
   "metadata": {},
   "outputs": [],
   "source": [
    "layer = 4\n",
    "position_base = ['Fe']+['0']*3\n",
    "position_center= ['Fe']+['1.421620']*3"
   ]
  },
  {
   "cell_type": "code",
   "execution_count": 1,
   "metadata": {},
   "outputs": [],
   "source": [
    "for layer in range(6,7):\n",
    "    with open('Fe_'+ str(layer) +'.xyz','w+') as f:\n",
    "        f.writelines(str(layer*2+1)+'\\n')\n",
    "        f.writelines('Fe2\\n')\n",
    "        for i in range(layer):\n",
    "            position_base = ['Fe']+['0']*3\n",
    "            position_center= ['Fe']+['1.641406721' , '1.160649796' , '2.010304451']\n",
    "            position_base[3] = str(float(position_base[3])+7.5+i*4.0206089020)\n",
    "            position_center[3] = str(float(position_center[3])+7.5+i*4.0206089020)\n",
    "            f.writelines('    '.join(position_base)+'\\n')\n",
    "            f.writelines('    '.join(position_center)+'\\n')\n",
    "        position_base[3] = str(float(position_base[3])+4.0206089020)\n",
    "        f.writelines('    '.join(position_base)+'\\n')\n",
    "        f.close()"
   ]
  },
  {
   "cell_type": "code",
   "execution_count": 2,
   "metadata": {},
   "outputs": [
    {
     "data": {
      "text/plain": [
       "4.0180207078173815"
      ]
     },
     "execution_count": 2,
     "metadata": {},
     "output_type": "execute_result"
    }
   ],
   "source": [
    "7.59849039*0.999272002*0.52917721067"
   ]
  },
  {
   "cell_type": "code",
   "execution_count": 3,
   "metadata": {},
   "outputs": [
    {
     "data": {
      "text/plain": [
       "5.3729440109104845"
      ]
     },
     "execution_count": 3,
     "metadata": {},
     "output_type": "execute_result"
    }
   ],
   "source": [
    "1.000084246*5.37249140"
   ]
  },
  {
   "cell_type": "code",
   "execution_count": 4,
   "metadata": {},
   "outputs": [
    {
     "data": {
      "text/plain": [
       "1.0"
      ]
     },
     "execution_count": 4,
     "metadata": {},
     "output_type": "execute_result"
    }
   ],
   "source": [
    "round(1.000000,11)"
   ]
  },
  {
   "cell_type": "code",
   "execution_count": null,
   "metadata": {},
   "outputs": [],
   "source": []
  }
 ],
 "metadata": {
  "kernelspec": {
   "display_name": "Python 3",
   "language": "python",
   "name": "python3"
  },
  "language_info": {
   "codemirror_mode": {
    "name": "ipython",
    "version": 3
   },
   "file_extension": ".py",
   "mimetype": "text/x-python",
   "name": "python",
   "nbconvert_exporter": "python",
   "pygments_lexer": "ipython3",
   "version": "3.7.4"
  }
 },
 "nbformat": 4,
 "nbformat_minor": 2
}
